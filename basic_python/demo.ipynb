{
 "cells": [
  {
   "cell_type": "code",
   "execution_count": 1,
   "metadata": {},
   "outputs": [
    {
     "name": "stdout",
     "output_type": "stream",
     "text": [
      "HELLO WORLD\n"
     ]
    }
   ],
   "source": [
    "# 1.WAS TO PRINT \"HELLO WORLD\"\n",
    "print(\"HELLO WORLD\")\n",
    "\n"
   ]
  },
  {
   "cell_type": "code",
   "execution_count": 6,
   "metadata": {},
   "outputs": [
    {
     "data": {
      "text/plain": [
       "(150, 120, 250)"
      ]
     },
     "execution_count": 6,
     "metadata": {},
     "output_type": "execute_result"
    }
   ],
   "source": [
    "#2.WAS TO INTIALIZE MULTIVARIABLE VALUE ARE 150,120,250\n",
    "a,b,c = 150,120,250\n",
    "a,b,c\n",
    "\n",
    "\n",
    "\n"
   ]
  },
  {
   "cell_type": "code",
   "execution_count": 7,
   "metadata": {},
   "outputs": [
    {
     "data": {
      "text/plain": [
       "set"
      ]
     },
     "execution_count": 7,
     "metadata": {},
     "output_type": "execute_result"
    }
   ],
   "source": [
    "# WAS TO PRINT THE TYPE OF THE DATA IN GIVEN VALUE\n",
    "a={10,20}\n",
    "type(a)\n"
   ]
  },
  {
   "cell_type": "code",
   "execution_count": 9,
   "metadata": {},
   "outputs": [
    {
     "data": {
      "text/plain": [
       "1825866167488"
      ]
     },
     "execution_count": 9,
     "metadata": {},
     "output_type": "execute_result"
    }
   ],
   "source": [
    "#3.WAS TO PRINT THE ADDRESS OF THE MEMORY BLOCK IN GIVEN VALUE\n",
    "a={10,20,30}\n",
    "id (a)\n",
    "\n"
   ]
  },
  {
   "cell_type": "code",
   "execution_count": 13,
   "metadata": {},
   "outputs": [
    {
     "name": "stdout",
     "output_type": "stream",
     "text": [
      "jaya\n",
      "21\n",
      "8974835080\n",
      "5.0\n"
     ]
    }
   ],
   "source": [
    "#4.WAS TO PRINT YOUR DETAILS ,FIRST STORE YOUR DETAIS,EXTRACT THE VALUEAND DISPLAY IT \n",
    "name=\"jaya\"\n",
    "age=21\n",
    "phone=8974835080\n",
    "email=\"jaya17792@gmail.com\"\n",
    "height=5.0\n",
    "pancard=True\n",
    "print (name)\n",
    "print (age)\n",
    "print (phone)\n",
    "print(height)\n",
    "\n",
    "\n"
   ]
  },
  {
   "cell_type": "code",
   "execution_count": 17,
   "metadata": {},
   "outputs": [
    {
     "data": {
      "text/plain": [
       "('bye', 'haii')"
      ]
     },
     "execution_count": 17,
     "metadata": {},
     "output_type": "execute_result"
    }
   ],
   "source": [
    "#5.WAS TO SWAP TO VALUE ,EITH TEMPORARY VARIABLE\n",
    "x=\"haii\"\n",
    "y=\"bye\"\n",
    "temp=x\n",
    "x=y\n",
    "y=temp\n",
    "x,y\n"
   ]
  },
  {
   "cell_type": "code",
   "execution_count": 22,
   "metadata": {},
   "outputs": [
    {
     "data": {
      "text/plain": [
       "({30, 40}, [10, 20])"
      ]
     },
     "execution_count": 22,
     "metadata": {},
     "output_type": "execute_result"
    }
   ],
   "source": [
    "# 6.WAS TO SWAP TO VALUE WITHOUT TEMPERORY VARIABLE\n",
    "m=[10,20]\n",
    "n={30,40}\n",
    "m,n=n,m\n",
    "m\n",
    "n\n",
    "m,n"
   ]
  },
  {
   "cell_type": "code",
   "execution_count": 29,
   "metadata": {},
   "outputs": [
    {
     "data": {
      "text/plain": [
       "[10, 20, 30]"
      ]
     },
     "execution_count": 29,
     "metadata": {},
     "output_type": "execute_result"
    }
   ],
   "source": [
    "#7.WAS TO INTIALIZE A VALUE AND PRINT THE VALUE ,AFTER PRINT THE VALUE THEN RE INTIALIZE THE NEW VALUE TO THE EXISTING VARIABLE AND DISPLAY THE VALUE\n",
    "a={'a':\"pyspiders\"}\n",
    "a\n",
    "a['a']\n",
    "a['a']='qspider'\n",
    "a\n",
    "a=[10,20,30]\n",
    "a\n",
    "\n"
   ]
  },
  {
   "cell_type": "code",
   "execution_count": 32,
   "metadata": {},
   "outputs": [
    {
     "name": "stdout",
     "output_type": "stream",
     "text": [
      "10\n"
     ]
    },
    {
     "data": {
      "text/plain": [
       "['1', '0']"
      ]
     },
     "execution_count": 32,
     "metadata": {},
     "output_type": "execute_result"
    }
   ],
   "source": [
    "#8.WAS TO CONVERT SINGLE TO MULTIVALUE DATA TYPE\n",
    "INPUT=a=10\n",
    "output=['1','0']\n",
    "a=10\n",
    "a=str(a)\n",
    "print(a)\n",
    "a=list(a)\n",
    "a"
   ]
  },
  {
   "cell_type": "code",
   "execution_count": 36,
   "metadata": {},
   "outputs": [
    {
     "name": "stdout",
     "output_type": "stream",
     "text": [
      "(10,)\n"
     ]
    }
   ],
   "source": [
    "a=[10]\n",
    "a=tuple (a)\n",
    "print(tuple(a))"
   ]
  },
  {
   "cell_type": "code",
   "execution_count": 43,
   "metadata": {},
   "outputs": [
    {
     "name": "stdout",
     "output_type": "stream",
     "text": [
      "helloworld\n",
      "[10, 20, 30, 40, 50, 60]\n",
      "[10, 20, 30, 'h', 'a', 'i', 'i']\n",
      "[10, 20, 30, 'a', 'b']\n",
      "[10, 20, 30, 'a', 'b']\n"
     ]
    }
   ],
   "source": [
    "#9.WAS TP CONCAT THE MULTIVAILUE DATA TYPE (STR,LIST,TUPLE,SET,DICT)\n",
    "x=\"hello\"\n",
    "x+=\"world\"\n",
    "print(x)\n",
    "y=[10,20,30]\n",
    "y+=[40,50,60]\n",
    "print(y)\n",
    "y=[10,20,30]\n",
    "y+=\"haii\"\n",
    "print(y)\n",
    "y=[10,20,30]\n",
    "y+={'a','b'}\n",
    "print(y)\n",
    "y=[10,20,30]\n",
    "y+={'a':100,'b':200}\n",
    "print(y)\n"
   ]
  },
  {
   "cell_type": "code",
   "execution_count": 1,
   "metadata": {},
   "outputs": [
    {
     "name": "stdout",
     "output_type": "stream",
     "text": [
      "10\n"
     ]
    }
   ],
   "source": [
    "a=10\n",
    "print(a)"
   ]
  },
  {
   "cell_type": "code",
   "execution_count": 1,
   "metadata": {},
   "outputs": [
    {
     "data": {
      "text/plain": [
       "2"
      ]
     },
     "execution_count": 1,
     "metadata": {},
     "output_type": "execute_result"
    }
   ],
   "source": [
    "#10.WAS TO CHECK THE LENGHT OF THE COLLECTION\n",
    "t=(10,20)\n",
    "len(t)\n"
   ]
  },
  {
   "cell_type": "code",
   "execution_count": 3,
   "metadata": {},
   "outputs": [
    {
     "data": {
      "text/plain": [
       "40"
      ]
     },
     "execution_count": 3,
     "metadata": {},
     "output_type": "execute_result"
    }
   ],
   "source": [
    "#11.WAS TO CHECK FIND OUT THE MIDDLE VALUE OF THE GIVEN COLECTION\n",
    "a=[200,300,40,500]\n",
    "a[len(a)//2]"
   ]
  },
  {
   "cell_type": "code",
   "execution_count": 6,
   "metadata": {},
   "outputs": [
    {
     "data": {
      "text/plain": [
       "'haiihow are u'"
      ]
     },
     "execution_count": 6,
     "metadata": {},
     "output_type": "execute_result"
    }
   ],
   "source": [
    "#12.WAS TO CONCAT THE NEW STRING INTO TH STARTING OF GIVEN STRING\n",
    "a=\"how are u\"\n",
    "b=\"haii\"\n",
    "a=b+a\n",
    "a"
   ]
  },
  {
   "cell_type": "code",
   "execution_count": 8,
   "metadata": {},
   "outputs": [
    {
     "data": {
      "text/plain": [
       "'helloworld'"
      ]
     },
     "execution_count": 8,
     "metadata": {},
     "output_type": "execute_result"
    }
   ],
   "source": [
    "#13.WAS TO CONCAT THE NEW STRING INTOTHE ENDING OF THE GIVEN STRING\n",
    "a=\"hello\"\n",
    "b=\"world\"\n",
    "a=a+b\n",
    "a"
   ]
  },
  {
   "cell_type": "code",
   "execution_count": 24,
   "metadata": {},
   "outputs": [
    {
     "data": {
      "text/plain": [
       "'apble'"
      ]
     },
     "execution_count": 24,
     "metadata": {},
     "output_type": "execute_result"
    }
   ],
   "source": [
    "#14.WAS TO CONCAT THE NEW STRING INTO THE MIDDLE OF THE GIVEN STRING\n",
    "s=\"apple\"\n",
    "s[0:2]+\"b\"+s[3:]"
   ]
  },
  {
   "cell_type": "code",
   "execution_count": 38,
   "metadata": {},
   "outputs": [
    {
     "data": {
      "text/plain": [
       "'PYSPlDERS'"
      ]
     },
     "execution_count": 38,
     "metadata": {},
     "output_type": "execute_result"
    }
   ],
   "source": [
    " #15.WAS TO MODIFY THE NEW CHARACTER OF THE GIVEN STRING\n",
    "a=\"PYSPIDERS\"\n",
    "a[len(a)//2]\n",
    "a=a[0:len(a)//2]+\"l\"+a[(len(a)//2)+1:]\n",
    "a"
   ]
  },
  {
   "cell_type": "code",
   "execution_count": 2,
   "metadata": {},
   "outputs": [
    {
     "data": {
      "text/plain": [
       "'pysPIDers'"
      ]
     },
     "execution_count": 2,
     "metadata": {},
     "output_type": "execute_result"
    }
   ],
   "source": [
    "#16.WAS MODIFY THE SEQUENCE OF CHARACTER IN GIVEN STRING\n",
    "s=\"pyspiders\"\n",
    "s=s[0:3]+\"PID\"+s[6:]\n",
    "s"
   ]
  },
  {
   "cell_type": "code",
   "execution_count": 4,
   "metadata": {},
   "outputs": [
    {
     "data": {
      "text/plain": [
       "'pyspiDers'"
      ]
     },
     "execution_count": 4,
     "metadata": {},
     "output_type": "execute_result"
    }
   ],
   "source": [
    "#17. EAS TP REPLACE THE OLD CHARACTER INTO A NEW CHARACTER OF STRING\n",
    "a=\"pyspiders\"\n",
    "a=a[:-4]+\"D\"+a[-3:]\n",
    "a"
   ]
  },
  {
   "cell_type": "code",
   "execution_count": 5,
   "metadata": {},
   "outputs": [
    {
     "data": {
      "text/plain": [
       "'pypiders'"
      ]
     },
     "execution_count": 5,
     "metadata": {},
     "output_type": "execute_result"
    }
   ],
   "source": [
    "#18.WAS TO DELETE THE SPECIFIC CHARACTER IN THE GIVEN STRING\n",
    "p=\"pyspiders\"\n",
    "p=p[:2]+p[3:]\n",
    "p"
   ]
  },
  {
   "cell_type": "code",
   "execution_count": 6,
   "metadata": {},
   "outputs": [
    {
     "data": {
      "text/plain": [
       "'pysers'"
      ]
     },
     "execution_count": 6,
     "metadata": {},
     "output_type": "execute_result"
    }
   ],
   "source": [
    "#19.WAS TO DELETE THE SEQUENCE OF CHARACTER IN THE GIVEN STRING\n",
    "j=\"pyspiders\"\n",
    "j=j[:3]+j[6:]\n",
    "j"
   ]
  },
  {
   "cell_type": "code",
   "execution_count": 8,
   "metadata": {},
   "outputs": [
    {
     "data": {
      "text/plain": [
       "'haii how are u'"
      ]
     },
     "execution_count": 8,
     "metadata": {},
     "output_type": "execute_result"
    }
   ],
   "source": [
    "#20.WAS TO CONCAT THE NEW STRING INTO THE SPECIFIC POSITION OF THE GIVEN STRING\n",
    "s=\"haii are u\"\n",
    "s=s[0:4+1]+\"how\"+s[4:]\n",
    "s"
   ]
  },
  {
   "cell_type": "code",
   "execution_count": 12,
   "metadata": {},
   "outputs": [
    {
     "data": {
      "text/plain": [
       "[1, 2, 3, 'a', 'b']"
      ]
     },
     "execution_count": 12,
     "metadata": {},
     "output_type": "execute_result"
    }
   ],
   "source": [
    "#21.WAS TO CONCAT THE NEW VALUE INTO THE STARTING OF THE GIVEN LIST\n",
    "k=[1,2,3]\n",
    "k+=['a','b']\n",
    "k"
   ]
  }
 ],
 "metadata": {
  "kernelspec": {
   "display_name": "Python 3",
   "language": "python",
   "name": "python3"
  },
  "language_info": {
   "codemirror_mode": {
    "name": "ipython",
    "version": 3
   },
   "file_extension": ".py",
   "mimetype": "text/x-python",
   "name": "python",
   "nbconvert_exporter": "python",
   "pygments_lexer": "ipython3",
   "version": "3.11.4"
  },
  "orig_nbformat": 4
 },
 "nbformat": 4,
 "nbformat_minor": 2
}
