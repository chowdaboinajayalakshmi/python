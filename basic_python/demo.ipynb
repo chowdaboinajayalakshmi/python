{
 "cells": [
  {
   "cell_type": "code",
   "execution_count": 1,
   "metadata": {},
   "outputs": [
    {
     "name": "stdout",
     "output_type": "stream",
     "text": [
      "HELLO WORLD\n"
     ]
    }
   ],
   "source": [
    "# WAS TO PRINT \"HELLO WORLD\"\n",
    "print(\"HELLO WORLD\")\n",
    "\n"
   ]
  },
  {
   "cell_type": "code",
   "execution_count": 6,
   "metadata": {},
   "outputs": [
    {
     "data": {
      "text/plain": [
       "(150, 120, 250)"
      ]
     },
     "execution_count": 6,
     "metadata": {},
     "output_type": "execute_result"
    }
   ],
   "source": [
    "#WAS TO INTIALIZE MULTIVARIABLE VALUE ARE 150,120,250\n",
    "a,b,c = 150,120,250\n",
    "a,b,c\n",
    "\n",
    "\n",
    "\n"
   ]
  },
  {
   "cell_type": "code",
   "execution_count": 7,
   "metadata": {},
   "outputs": [
    {
     "data": {
      "text/plain": [
       "set"
      ]
     },
     "execution_count": 7,
     "metadata": {},
     "output_type": "execute_result"
    }
   ],
   "source": [
    "# WAS TO PRINT THE TYPE OF THE DATA IN GIVEN VALUE\n",
    "a={10,20}\n",
    "type(a)\n"
   ]
  },
  {
   "cell_type": "code",
   "execution_count": 9,
   "metadata": {},
   "outputs": [
    {
     "data": {
      "text/plain": [
       "1825866167488"
      ]
     },
     "execution_count": 9,
     "metadata": {},
     "output_type": "execute_result"
    }
   ],
   "source": [
    "#WAS TO PRINT THE ADDRESS OF THE MEMORY BLOCK IN GIVEN VALUE\n",
    "a={10,20,30}\n",
    "id (a)\n",
    "\n"
   ]
  },
  {
   "cell_type": "code",
   "execution_count": 13,
   "metadata": {},
   "outputs": [
    {
     "name": "stdout",
     "output_type": "stream",
     "text": [
      "jaya\n",
      "21\n",
      "8974835080\n",
      "5.0\n"
     ]
    }
   ],
   "source": [
    "#WAS TO PRINT YOUR DETAILS ,FIRST STORE YOUR DETAIS,EXTRACT THE VALUEAND DISPLAY IT \n",
    "name=\"jaya\"\n",
    "age=21\n",
    "phone=8974835080\n",
    "email=\"jaya17792@gmail.com\"\n",
    "height=5.0\n",
    "pancard=True\n",
    "print (name)\n",
    "print (age)\n",
    "print (phone)\n",
    "print(height)\n",
    "\n",
    "\n"
   ]
  },
  {
   "cell_type": "code",
   "execution_count": 17,
   "metadata": {},
   "outputs": [
    {
     "data": {
      "text/plain": [
       "('bye', 'haii')"
      ]
     },
     "execution_count": 17,
     "metadata": {},
     "output_type": "execute_result"
    }
   ],
   "source": [
    "#WAS TO SWAP TO VALUE ,EITH TEMPORARY VARIABLE\n",
    "x=\"haii\"\n",
    "y=\"bye\"\n",
    "temp=x\n",
    "x=y\n",
    "y=temp\n",
    "x,y\n"
   ]
  },
  {
   "cell_type": "code",
   "execution_count": 22,
   "metadata": {},
   "outputs": [
    {
     "data": {
      "text/plain": [
       "({30, 40}, [10, 20])"
      ]
     },
     "execution_count": 22,
     "metadata": {},
     "output_type": "execute_result"
    }
   ],
   "source": [
    "# WAS TO SWAP TO VALUE WITHOUT TEMPERORY VARIABLE\n",
    "m=[10,20]\n",
    "n={30,40}\n",
    "m,n=n,m\n",
    "m\n",
    "n\n",
    "m,n"
   ]
  },
  {
   "cell_type": "code",
   "execution_count": 29,
   "metadata": {},
   "outputs": [
    {
     "data": {
      "text/plain": [
       "[10, 20, 30]"
      ]
     },
     "execution_count": 29,
     "metadata": {},
     "output_type": "execute_result"
    }
   ],
   "source": [
    "#WAS TO INTIALIZE A VALUE AND PRINT THE VALUE ,AFTER PRINT THE VALUE THEN RE INTIALIZE THE NEW VALUE TO THE EXISTING VARIABLE AND DISPLAY THE VALUE\n",
    "a={'a':\"pyspiders\"}\n",
    "a\n",
    "a['a']\n",
    "a['a']='qspider'\n",
    "a\n",
    "a=[10,20,30]\n",
    "a\n",
    "\n"
   ]
  },
  {
   "cell_type": "code",
   "execution_count": 32,
   "metadata": {},
   "outputs": [
    {
     "name": "stdout",
     "output_type": "stream",
     "text": [
      "10\n"
     ]
    },
    {
     "data": {
      "text/plain": [
       "['1', '0']"
      ]
     },
     "execution_count": 32,
     "metadata": {},
     "output_type": "execute_result"
    }
   ],
   "source": [
    "#WAS TO CONVERT SINGLE TO MULTIVALUE DATA TYPE\n",
    "INPUT=a=10\n",
    "output=['1','0']\n",
    "a=10\n",
    "a=str(a)\n",
    "print(a)\n",
    "a=list(a)\n",
    "a"
   ]
  },
  {
   "cell_type": "code",
   "execution_count": 36,
   "metadata": {},
   "outputs": [
    {
     "name": "stdout",
     "output_type": "stream",
     "text": [
      "(10,)\n"
     ]
    }
   ],
   "source": [
    "a=[10]\n",
    "a=tuple (a)\n",
    "print(tuple(a))"
   ]
  },
  {
   "cell_type": "code",
   "execution_count": 43,
   "metadata": {},
   "outputs": [
    {
     "name": "stdout",
     "output_type": "stream",
     "text": [
      "helloworld\n",
      "[10, 20, 30, 40, 50, 60]\n",
      "[10, 20, 30, 'h', 'a', 'i', 'i']\n",
      "[10, 20, 30, 'a', 'b']\n",
      "[10, 20, 30, 'a', 'b']\n"
     ]
    }
   ],
   "source": [
    "#WAS TP CONCAT THE MULTIVAILUE DATA TYPE (STR,LIST,TUPLE,SET,DICT)\n",
    "x=\"hello\"\n",
    "x+=\"world\"\n",
    "print(x)\n",
    "y=[10,20,30]\n",
    "y+=[40,50,60]\n",
    "print(y)\n",
    "y=[10,20,30]\n",
    "y+=\"haii\"\n",
    "print(y)\n",
    "y=[10,20,30]\n",
    "y+={'a','b'}\n",
    "print(y)\n",
    "y=[10,20,30]\n",
    "y+={'a':100,'b':200}\n",
    "print(y)\n"
   ]
  }
 ],
 "metadata": {
  "kernelspec": {
   "display_name": "Python 3",
   "language": "python",
   "name": "python3"
  },
  "language_info": {
   "codemirror_mode": {
    "name": "ipython",
    "version": 3
   },
   "file_extension": ".py",
   "mimetype": "text/x-python",
   "name": "python",
   "nbconvert_exporter": "python",
   "pygments_lexer": "ipython3",
   "version": "3.11.4"
  },
  "orig_nbformat": 4
 },
 "nbformat": 4,
 "nbformat_minor": 2
}
