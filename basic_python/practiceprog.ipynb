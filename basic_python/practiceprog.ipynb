{
 "cells": [
  {
   "cell_type": "code",
   "execution_count": 10,
   "metadata": {},
   "outputs": [
    {
     "name": "stdout",
     "output_type": "stream",
     "text": [
      "A B C\n",
      "a 65\n",
      "b 66\n",
      "c 67\n",
      "True\n"
     ]
    }
   ],
   "source": [
    "#was to check the first character,middle character ,last character are in sequence  or not\n",
    "#i/p AVByC\n",
    "#true\n",
    "x='AVByC'\n",
    "a=x[0]\n",
    "b=x[2]\n",
    "c=x[4]\n",
    "print(a,b,c)\n",
    "print('a',ord(a))\n",
    "print('b',ord(b))\n",
    "print('c',ord(c))\n",
    "print(ord(a)+1==ord(b) and ord(b)+1==ord(c))"
   ]
  },
  {
   "cell_type": "code",
   "execution_count": 18,
   "metadata": {},
   "outputs": [
    {
     "data": {
      "text/plain": [
       "['a', 20, 'a', 'k', 'z', 11.2, 30, 'a', 'x', 'y', 45, 55]"
      ]
     },
     "execution_count": 18,
     "metadata": {},
     "output_type": "execute_result"
    }
   ],
   "source": [
    "#was to modify the sequence of values from the given list\n",
    "l=[10,20,11.2,30,89,90,33,45,55]\n",
    "#sinle value\n",
    "l[0]='a'\n",
    "l\n",
    "#multiple values\n",
    "l[4:7]=['a','x','y']\n",
    "l\n",
    "#to get in specific position\n",
    "l[2:2]=['a','k','z']\n",
    "l\n"
   ]
  },
  {
   "cell_type": "code",
   "execution_count": 19,
   "metadata": {},
   "outputs": [
    {
     "data": {
      "text/plain": [
       "'a'"
      ]
     },
     "execution_count": 19,
     "metadata": {},
     "output_type": "execute_result"
    }
   ],
   "source": [
    "#was to check the convert to uppercase to lowercase\n",
    "ch='A'\n",
    "chr(ord(ch)+32)\n"
   ]
  }
 ],
 "metadata": {
  "kernelspec": {
   "display_name": "Python 3",
   "language": "python",
   "name": "python3"
  },
  "language_info": {
   "codemirror_mode": {
    "name": "ipython",
    "version": 3
   },
   "file_extension": ".py",
   "mimetype": "text/x-python",
   "name": "python",
   "nbconvert_exporter": "python",
   "pygments_lexer": "ipython3",
   "version": "3.11.4"
  },
  "orig_nbformat": 4
 },
 "nbformat": 4,
 "nbformat_minor": 2
}
